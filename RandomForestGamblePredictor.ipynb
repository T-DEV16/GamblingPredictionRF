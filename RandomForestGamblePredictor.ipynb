{
  "cells": [
    {
      "cell_type": "code",
      "execution_count": 1,
      "metadata": {
        "colab": {
          "base_uri": "https://localhost:8080/"
        },
        "id": "R2OtrNX9R_7z",
        "outputId": "68cfe2dd-729c-41ac-f2b9-c2c99044d142"
      },
      "outputs": [],
      "source": [
        "import h5py\n",
        "import ssl\n",
        "import numpy as np\n",
        "import sys"
      ]
    },
    {
      "cell_type": "code",
      "execution_count": 3,
      "metadata": {
        "colab": {
          "base_uri": "https://localhost:8080/"
        },
        "id": "8xArSau6Sj0f",
        "outputId": "217346e7-d91f-4a2f-c5dc-3ed8d7d96d11"
      },
      "outputs": [
        {
          "name": "stdout",
          "output_type": "stream",
          "text": [
            "[1 0 0 1 0 1 1 0 0 1 0 1 0 1 1 0 0 0 1 1 0 0 0 0 0 0 1 0 0 0 0 0 1 1 1 1 0\n",
            " 1 0 0 0 1 1 0 1 1 1 0 1 0 1 1 0 0 1 0 1 0 0 1 1 0 0 0 0 1 1 0 1 1 1 0 1 0\n",
            " 0 0 0 1 1 1 0 0 0 0 0 0 0 1 1 0 0 1 0 0 1 1 0 1 1 0 0 0 0 1 1 0 0 0 0 1 0\n",
            " 1 0 0 0 1 0 1 0 1 0 0 1 1 0 1 0 1 1 0 0 1 0 0 0 1 1 0 0 1 0 0 0 1 0 0 1 1\n",
            " 1 1 1 0 0 0 0 1 1 1 1 1 0 0 0 0 1 0 1 0 1 0 1 0]\n",
            "172\n",
            "<HDF5 file \"BrainWaveData.mat\" (mode r)>\n"
          ]
        }
      ],
      "source": [
        "ssl._create_default_https_context = ssl._create_unverified_context\n",
        "f = h5py.File('BrainWaveData.mat', 'r')\n",
        "dataset = list(f[\"power_struct\"][\"highgamma\"][\"powspctrm\"])\n",
        "dataset = dataset[2000:4000]\n",
        "labelsset = np.array(f[\"power_struct\"][\"beh\"][\"gambles\"])\n",
        "dataset = np.array(dataset)\n",
        "dataset = np.transpose(dataset, (2,1,0))\n",
        "print(labelsset[0])\n",
        "print(len(labelsset[0]))\n",
        "print(f)"
      ]
    },
    {
      "cell_type": "code",
      "execution_count": 5,
      "metadata": {
        "colab": {
          "base_uri": "https://localhost:8080/"
        },
        "id": "lv0z2tm5NIa2",
        "outputId": "5944c5d6-b340-41ad-d0ca-6acb83244a7d"
      },
      "outputs": [
        {
          "name": "stdout",
          "output_type": "stream",
          "text": [
            "['Amygdala', 'Amygdala', 'Amygdala', 'white_matter', 'white_matter', 'TemporalLobe', 'TemporalLobe', 'TemporalLobe', 'Cingulate', 'Cingulate', 'white_matter', 'white_matter', 'LPFC', 'LPFC', 'LPFC', 'Hippocampus', 'white_matter', 'white_matter', 'TemporalLobe', 'TemporalLobe', 'TemporalLobe', 'OFC', 'OFC', 'Cingulate', 'Cingulate', 'Cingulate', 'Cingulate', 'white_matter', 'LPFC', 'Hippocampus', 'Hippocampus', 'Hippocampus', 'white_matter', 'Hippocampus', 'Hippocampus', 'white_matter', 'TemporalLobe', 'Amygdala', 'Amygdala', 'white_matter', 'white_matter', 'TemporalLobe', 'TemporalLobe', 'TemporalLobe', 'Cingulate', 'Cingulate', 'white_matter', 'white_matter', 'LPFC', 'LPFC', 'LPFC', 'LPFC', 'white_matter', 'white_matter', 'TemporalLobe', 'TemporalLobe', 'TemporalLobe', 'OFC', 'white_matter', 'white_matter', 'white_matter', 'white_matter', 'LPFC', 'LPFC', 'LPFC', 'white_matter', 'white_matter', 'white_matter', 'white_matter', 'TemporalLobe', 'TemporalLobe']\n"
          ]
        }
      ],
      "source": [
        "regionset = np.array(list(f[\"power_struct\"][\"anat\"][\"ROIs\"][0]))\n",
        "regionset = [''.join(chr(i[0]) for i in f[elec]) for elec in regionset]\n",
        "print(regionset)\n"
      ]
    },
    {
      "cell_type": "code",
      "execution_count": 7,
      "metadata": {
        "id": "3hi8bpv_NG8g"
      },
      "outputs": [],
      "source": [
        "data_split_by_region = [[trial[np.where(np.array(regionset) == label)] for label in np.unique(regionset)] for trial in dataset]"
      ]
    },
    {
      "cell_type": "code",
      "execution_count": 8,
      "metadata": {
        "id": "5aqVQDctTdrQ"
      },
      "outputs": [],
      "source": [
        "from sklearn.preprocessing import StandardScaler\n",
        "from sklearn import decomposition\n",
        "\n",
        "pca = decomposition.PCA(n_components=1)\n",
        "pca_data = [[[pca.fit_transform(StandardScaler().fit_transform(d.T))] for d in data]for data in data_split_by_region]\n",
        "pca_data = np.squeeze(np.array(pca_data))\n"
      ]
    },
    {
      "cell_type": "code",
      "execution_count": 9,
      "metadata": {
        "colab": {
          "base_uri": "https://localhost:8080/"
        },
        "id": "WN_P4ZRYcpdA",
        "outputId": "423f8817-e32f-40f5-c297-7d8589978e60"
      },
      "outputs": [
        {
          "name": "stdout",
          "output_type": "stream",
          "text": [
            "(172, 7, 2000)\n",
            "[[[ 0.13120964 -0.01489183 -0.18633628 ... -0.21669862 -0.09101249\n",
            "   -0.04087932]\n",
            "  [-1.06823446 -1.08308446 -0.97929318 ... -0.33112804 -0.57814895\n",
            "   -0.84456703]\n",
            "  [-0.14784028 -0.41036582 -0.60156443 ... -1.32370598 -1.37064948\n",
            "   -1.4582452 ]\n",
            "  ...\n",
            "  [ 1.08431604  0.65275885  0.15222983 ... -1.03335078 -1.07079616\n",
            "   -1.06182938]\n",
            "  [ 2.5548266   2.2812855   1.80838349 ... -0.5991005  -0.44051495\n",
            "   -0.26035834]\n",
            "  [ 2.62905122  2.37185866  1.98219852 ... -0.23266641 -0.42109889\n",
            "   -0.73822345]]\n",
            "\n",
            " [[-0.39783472 -0.37470919 -0.40707894 ... -0.56147849 -0.7955811\n",
            "   -0.99781944]\n",
            "  [-1.68660425 -1.35722157 -0.66443331 ... -0.23934468 -0.28060189\n",
            "   -0.41420708]\n",
            "  [-1.27700245 -1.0524507  -0.7988975  ...  1.07833368  1.30417686\n",
            "    1.36542047]\n",
            "  ...\n",
            "  [-1.62669687 -1.63570906 -1.55876037 ... -0.05269747 -0.21219204\n",
            "   -0.44113449]\n",
            "  [-0.94109129 -0.71230028 -0.58529436 ... -0.88299769 -1.14137025\n",
            "   -1.38916801]\n",
            "  [-1.67231011 -1.60270798 -1.4513983  ... -0.15846861  0.08733442\n",
            "    0.25791839]]\n",
            "\n",
            " [[-0.24805411 -0.19316258 -0.22999533 ...  1.89870362  1.52638077\n",
            "    1.10363451]\n",
            "  [-0.11278791  0.06038484  0.08543415 ...  1.61007992  1.15770902\n",
            "    0.63338763]\n",
            "  [-0.8385371  -0.71994277 -0.62147661 ... -0.06069243 -0.43152396\n",
            "   -0.60644538]\n",
            "  ...\n",
            "  [-0.64264358 -0.71843234 -0.77869641 ... -0.11035946 -0.03144937\n",
            "    0.13656112]\n",
            "  [-1.10341886 -1.47659165 -1.81861785 ... -0.77855679 -0.78352015\n",
            "   -0.73404204]\n",
            "  [ 0.24680492  0.35250793  0.32071968 ...  2.88502802  2.14472613\n",
            "    1.32672004]]\n",
            "\n",
            " ...\n",
            "\n",
            " [[-0.33996073 -0.4310947  -0.54804822 ... -1.10927823 -1.00141125\n",
            "   -0.83956617]\n",
            "  [ 0.28800014  0.37132408  0.46277339 ... -0.43359323 -0.5903083\n",
            "   -0.743205  ]\n",
            "  [ 5.45625175  5.18508111  4.72420545 ...  1.59192022  2.01928307\n",
            "    2.7068038 ]\n",
            "  ...\n",
            "  [-0.98466009 -0.9470322  -0.88500677 ... -0.36268181 -0.69991256\n",
            "   -0.93799294]\n",
            "  [ 1.419313    1.49186782  1.50660952 ...  5.9587028   6.03691224\n",
            "    6.1247269 ]\n",
            "  [ 0.22527569  0.37044684  0.37402072 ... -0.70182996 -0.11164707\n",
            "    0.72240695]]\n",
            "\n",
            " [[ 0.09477307  0.3240123   0.43340131 ...  0.40575185  0.74236069\n",
            "    0.95412569]\n",
            "  [-0.62869133 -0.72010938 -0.78063376 ... -0.51187723 -0.74220396\n",
            "   -1.03225524]\n",
            "  [ 1.11798205  1.32845876  1.23722315 ...  3.10930296  2.60475303\n",
            "    1.95902735]\n",
            "  ...\n",
            "  [ 2.26829887  2.71841476  3.0100241  ... -0.3202248  -0.31609327\n",
            "   -0.3037559 ]\n",
            "  [-1.75150704 -1.76695448 -1.72403442 ... -0.04717347  0.03856713\n",
            "    0.12202485]\n",
            "  [-0.97762418 -0.41934403  0.08546516 ... -0.94795048 -1.03046484\n",
            "   -1.10950724]]\n",
            "\n",
            " [[-0.98765365 -0.77665522 -0.52609708 ... -0.78283103 -0.68702277\n",
            "   -0.64539769]\n",
            "  [-0.63984702 -0.74182429 -0.84330994 ... -0.83568725 -0.99327908\n",
            "   -1.10489384]\n",
            "  [-1.32166868 -1.32417211 -1.29417444 ... -1.19392692 -0.8024643\n",
            "   -0.37855544]\n",
            "  ...\n",
            "  [-1.29489782 -1.11362592 -0.93690439 ... -1.06006537 -0.82802022\n",
            "   -0.57727851]\n",
            "  [-0.05074127  0.45248639  0.97015411 ... -0.69339191 -0.88998124\n",
            "   -1.13001407]\n",
            "  [-0.03521724  0.09750902  0.2369831  ... -1.21077232 -1.32213506\n",
            "   -1.41490973]]]\n"
          ]
        }
      ],
      "source": [
        "print(pca_data.shape)\n",
        "print(pca_data)"
      ]
    },
    {
      "cell_type": "code",
      "execution_count": 10,
      "metadata": {
        "colab": {
          "base_uri": "https://localhost:8080/"
        },
        "id": "p1L4iuXaSoMV",
        "outputId": "5b6a0b86-9577-4997-d34c-373b6f90d648"
      },
      "outputs": [
        {
          "name": "stdout",
          "output_type": "stream",
          "text": [
            "(172, 7, 5)\n"
          ]
        }
      ],
      "source": [
        "binned = [[(np.histogram(region, 5, weights=region)[0] /\n",
        "             np.histogram(region, 5)[0]) for region in trial] for trial in pca_data]\n",
        "binned = np.array(binned)\n",
        "print(binned.shape)\n"
      ]
    },
    {
      "cell_type": "code",
      "execution_count": 11,
      "metadata": {
        "colab": {
          "base_uri": "https://localhost:8080/"
        },
        "id": "s9RvJYsoc-62",
        "outputId": "47cf79a4-985c-4772-a1c4-8568e8d0dd38"
      },
      "outputs": [
        {
          "name": "stdout",
          "output_type": "stream",
          "text": [
            "(172, 35)\n"
          ]
        }
      ],
      "source": [
        "parameters = np.array([trial.flatten() for trial in binned])\n",
        "print(parameters.shape)\n"
      ]
    },
    {
      "cell_type": "code",
      "execution_count": 12,
      "metadata": {
        "colab": {
          "base_uri": "https://localhost:8080/"
        },
        "id": "Bc0SdBPrKkiR",
        "outputId": "76940896-2834-49be-964e-91c248869615"
      },
      "outputs": [
        {
          "name": "stdout",
          "output_type": "stream",
          "text": [
            "52\n",
            "Accuracy: 0.6538461538461539\n"
          ]
        }
      ],
      "source": [
        "# Import the model we are using\n",
        "from sklearn.ensemble import RandomForestRegressor\n",
        "from sklearn.metrics import mean_absolute_error\n",
        "from sklearn.model_selection import train_test_split\n",
        "\n",
        "\n",
        "\n",
        "X_train, X_test, y_train, y_test = train_test_split(parameters, np.squeeze(labelsset), test_size=0.3, random_state=42)\n",
        "\n",
        "\n",
        "rf = RandomForestRegressor(n_estimators = 1000)\n",
        "rf.fit(X_train, y_train);\n",
        "#print(rf.fit)\n",
        "truth = np.squeeze(labelsset)\n",
        "\n",
        "#print(truth.reshape(-1,1))\n",
        "\n",
        "y_pred = rf.predict(np.squeeze(X_test))\n",
        "#print(rf)\n",
        "#print(y_pred)\n",
        "\n",
        "\n",
        "for i in range(len(y_pred)):\n",
        "    if y_pred[i] > .5:\n",
        "        y_pred[i] = 1\n",
        "        y_pred[i] = int(y_pred[i])\n",
        "    else:\n",
        "        y_pred[i] = 0\n",
        "        y_pred[i] = int(y_pred[i])\n",
        "print(len(y_pred))\n",
        "\n",
        "truth = np.transpose(labelsset)\n",
        "\n",
        "mae = mean_absolute_error(y_pred, y_test)\n",
        "\n",
        "print(\"Accuracy:\", (1-mae))\n",
        "##find accuracy"
      ]
    },
    {
      "cell_type": "code",
      "execution_count": 13,
      "metadata": {
        "colab": {
          "base_uri": "https://localhost:8080/"
        },
        "id": "mkyuzJ4aevO2",
        "outputId": "389b326b-d43b-482f-c247-2c16b8896246"
      },
      "outputs": [
        {
          "name": "stdout",
          "output_type": "stream",
          "text": [
            "[0.11572667 0.12722237 0.10420704 0.11382204 0.14229516 0.25669622\n",
            " 0.14003049]\n",
            "[0.26929568 0.16965277 0.15234427 0.17455016 0.23415712]\n",
            "['Amygdala' 'Cingulate' 'Hippocampus' 'LPFC' 'OFC' 'TemporalLobe'\n",
            " 'white_matter']\n"
          ]
        }
      ],
      "source": [
        "importance = np.reshape(rf.feature_importances_, (7,5))\n",
        "print(np.sum(importance, 1))\n",
        "print(np.sum(importance, 0))\n",
        "#200 ms bin size importance\n",
        "print(np.unique(regionset))\n",
        "#assess importance of parameters"
      ]
    }
  ],
  "metadata": {
    "accelerator": "GPU",
    "colab": {
      "provenance": []
    },
    "gpuClass": "standard",
    "kernelspec": {
      "display_name": "Python 3 (ipykernel)",
      "language": "python",
      "name": "python3"
    },
    "language_info": {
      "codemirror_mode": {
        "name": "ipython",
        "version": 3
      },
      "file_extension": ".py",
      "mimetype": "text/x-python",
      "name": "python",
      "nbconvert_exporter": "python",
      "pygments_lexer": "ipython3",
      "version": "3.9.16"
    }
  },
  "nbformat": 4,
  "nbformat_minor": 0
}
